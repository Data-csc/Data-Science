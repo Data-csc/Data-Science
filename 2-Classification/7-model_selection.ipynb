{
 "cells": [
  {
   "cell_type": "markdown",
   "id": "trying-witch",
   "metadata": {},
   "source": [
    "# Import Libraries"
   ]
  },
  {
   "cell_type": "code",
   "execution_count": 1,
   "id": "median-tonight",
   "metadata": {},
   "outputs": [],
   "source": [
    "import pandas as pd\n",
    "import numpy as np\n",
    "import matplotlib.pyplot as plt"
   ]
  },
  {
   "cell_type": "code",
   "execution_count": 2,
   "id": "alert-trainer",
   "metadata": {},
   "outputs": [],
   "source": [
    "%matplotlib inline"
   ]
  },
  {
   "cell_type": "markdown",
   "id": "statistical-institute",
   "metadata": {},
   "source": [
    "# Read Dataset"
   ]
  },
  {
   "cell_type": "code",
   "execution_count": 3,
   "id": "foreign-surveillance",
   "metadata": {},
   "outputs": [],
   "source": [
    "dataset = pd.read_csv('model_selection.csv')"
   ]
  },
  {
   "cell_type": "code",
   "execution_count": 4,
   "id": "better-supplement",
   "metadata": {},
   "outputs": [],
   "source": [
    "X = dataset.iloc[:, 1:-1].values\n",
    "y = dataset.iloc[:, -1].values"
   ]
  },
  {
   "cell_type": "markdown",
   "id": "becoming-health",
   "metadata": {},
   "source": [
    "# Label Encoder"
   ]
  },
  {
   "cell_type": "code",
   "execution_count": 5,
   "id": "atomic-escape",
   "metadata": {},
   "outputs": [],
   "source": [
    "from sklearn.preprocessing import LabelEncoder\n",
    "encoder = LabelEncoder()\n",
    "y = encoder.fit_transform(y)"
   ]
  },
  {
   "cell_type": "markdown",
   "id": "talented-livestock",
   "metadata": {},
   "source": [
    "# Train Test Split"
   ]
  },
  {
   "cell_type": "code",
   "execution_count": 6,
   "id": "typical-expansion",
   "metadata": {},
   "outputs": [],
   "source": [
    "from sklearn.model_selection import train_test_split\n",
    "\n",
    "X_train, X_test, y_train, y_test = train_test_split(X, y, test_size=0.2, random_state=0)"
   ]
  },
  {
   "cell_type": "markdown",
   "id": "intended-reach",
   "metadata": {},
   "source": [
    "# Feature Scaling"
   ]
  },
  {
   "cell_type": "code",
   "execution_count": 7,
   "id": "departmental-lincoln",
   "metadata": {},
   "outputs": [],
   "source": [
    "from sklearn.preprocessing import StandardScaler\n",
    "\n",
    "def transform(X_train, X_test):\n",
    "    scaler = StandardScaler()\n",
    "    X_train = scaler.fit_transform(X_train)\n",
    "    X_test = scaler.transform(X_test)\n",
    "    return scaler, X_train, X_test"
   ]
  },
  {
   "cell_type": "markdown",
   "id": "powerful-arrow",
   "metadata": {},
   "source": [
    "# Accuracy Metrics"
   ]
  },
  {
   "cell_type": "code",
   "execution_count": 8,
   "id": "south-browser",
   "metadata": {},
   "outputs": [],
   "source": [
    "from sklearn.metrics import accuracy_score\n",
    "from sklearn.model_selection import cross_val_score\n",
    "from collections import defaultdict\n",
    "\n",
    "def accuracy(models, X_test, y_test):\n",
    "    acc = dict()\n",
    "#     print(models)\n",
    "    for name, model in models.items():\n",
    "        score = accuracy_score(y_test, model.predict(X_test))\n",
    "        acc[name] = score\n",
    "    \n",
    "    return acc\n",
    "\n",
    "def cv_accuracy(models, X_train, y_train):\n",
    "    acc = defaultdict(list)\n",
    "#     print(models)\n",
    "    for name, model in models.items():\n",
    "        score = cross_val_score(model, X=X_train, y=y_train, cv=10)\n",
    "        acc[name].append(score.mean()*100)\n",
    "        acc[name].append(score.std()*100)\n",
    "    \n",
    "    return acc"
   ]
  },
  {
   "cell_type": "markdown",
   "id": "disabled-stephen",
   "metadata": {},
   "source": [
    "# Implementation"
   ]
  },
  {
   "cell_type": "code",
   "execution_count": 9,
   "id": "norwegian-puppy",
   "metadata": {},
   "outputs": [],
   "source": [
    "_, X_train, X_test = transform(X_train, X_test)"
   ]
  },
  {
   "cell_type": "code",
   "execution_count": 10,
   "id": "given-lender",
   "metadata": {},
   "outputs": [
    {
     "data": {
      "text/plain": [
       "RandomForestClassifier()"
      ]
     },
     "execution_count": 10,
     "metadata": {},
     "output_type": "execute_result"
    }
   ],
   "source": [
    "from sklearn.linear_model import LogisticRegression\n",
    "from sklearn.preprocessing import PolynomialFeatures, StandardScaler\n",
    "from sklearn.neighbors import KNeighborsClassifier\n",
    "from sklearn.svm import SVC\n",
    "from sklearn.naive_bayes import GaussianNB\n",
    "from sklearn.tree import DecisionTreeClassifier\n",
    "from sklearn.ensemble import RandomForestClassifier\n",
    "\n",
    "# Linear Logistic Regression\n",
    "lm = LogisticRegression()\n",
    "lm.fit(X_train, y_train)\n",
    "\n",
    "# Non Linear Logistic Regress\n",
    "# pf = PolynomialFeatures(degree=2)\n",
    "# lr = LogisticRegression()\n",
    "\n",
    "# X_train_poly = pf.fit_transform(X_train)\n",
    "# X_test_poly = pf.transform(X_test)\n",
    "\n",
    "# scaler, X_train_scaled, X_test_scaled = transform(X_train_poly, X_test_poly)\n",
    "\n",
    "# lr.fit(X_train_scaled, y_train)\n",
    "\n",
    "# Knn classifier\n",
    "knn = KNeighborsClassifier()\n",
    "\n",
    "knn.fit(X_train, y_train)\n",
    "\n",
    "# SVM linear\n",
    "linear_svc = SVC(kernel='linear')\n",
    "linear_svc.fit(X_train, y_train)\n",
    "\n",
    "# SVM Non-linear\n",
    "svc = SVC(kernel='rbf')\n",
    "svc.fit(X_train, y_train)\n",
    "\n",
    "# Naive Bayes\n",
    "naive = GaussianNB()\n",
    "naive.fit(X_train, y_train)\n",
    "\n",
    "# Decison Tree\n",
    "tree = DecisionTreeClassifier()\n",
    "tree.fit(X_train, y_train)\n",
    "\n",
    "# Random Forest\n",
    "\n",
    "forest = RandomForestClassifier()\n",
    "forest.fit(X_train, y_train)"
   ]
  },
  {
   "cell_type": "code",
   "execution_count": 11,
   "id": "material-composition",
   "metadata": {},
   "outputs": [],
   "source": [
    "models = {\n",
    "    'Logistic Regression': lm,\n",
    "    'KNN': knn,\n",
    "    'Linear SVM': linear_svc,\n",
    "    'SVM': svc,\n",
    "    'Naive Bayes': naive,\n",
    "    'Tree': tree,\n",
    "    'Forest': forest\n",
    "}"
   ]
  },
  {
   "cell_type": "code",
   "execution_count": 12,
   "id": "concerned-milwaukee",
   "metadata": {},
   "outputs": [
    {
     "data": {
      "text/plain": [
       "{'Logistic Regression': 0.9562043795620438,\n",
       " 'KNN': 0.9562043795620438,\n",
       " 'Linear SVM': 0.9562043795620438,\n",
       " 'SVM': 0.9562043795620438,\n",
       " 'Naive Bayes': 0.948905109489051,\n",
       " 'Tree': 0.9416058394160584,\n",
       " 'Forest': 0.9708029197080292}"
      ]
     },
     "execution_count": 12,
     "metadata": {},
     "output_type": "execute_result"
    }
   ],
   "source": [
    "accuracy(models, X_test, y_test)"
   ]
  },
  {
   "cell_type": "code",
   "execution_count": 13,
   "id": "visible-hollywood",
   "metadata": {},
   "outputs": [
    {
     "data": {
      "text/plain": [
       "defaultdict(list,\n",
       "            {'Logistic Regression': [96.78815004262574, 2.5044947381092406],\n",
       "             'KNN': [97.22719522591646, 2.6357992860835116],\n",
       "             'Linear SVM': [96.64109121909632, 2.158104936312061],\n",
       "             'SVM': [97.0780051150895, 2.1569522488833974],\n",
       "             'Naive Bayes': [96.05498721227622, 1.8366070726154708],\n",
       "             'Tree': [95.02557544757032, 1.980703338893754],\n",
       "             'Forest': [96.93307757885762, 1.7725456594854991]})"
      ]
     },
     "execution_count": 13,
     "metadata": {},
     "output_type": "execute_result"
    }
   ],
   "source": [
    "cv_accuracy(models, X, y)"
   ]
  },
  {
   "cell_type": "code",
   "execution_count": 14,
   "id": "naval-speed",
   "metadata": {},
   "outputs": [],
   "source": [
    "y_pred = knn.predict(X_test)"
   ]
  },
  {
   "cell_type": "markdown",
   "id": "varying-aspect",
   "metadata": {},
   "source": [
    "# CAP Curve"
   ]
  },
  {
   "cell_type": "code",
   "execution_count": 15,
   "id": "interesting-virginia",
   "metadata": {},
   "outputs": [
    {
     "data": {
      "text/plain": [
       "<matplotlib.legend.Legend at 0x21886566608>"
      ]
     },
     "execution_count": 15,
     "metadata": {},
     "output_type": "execute_result"
    },
    {
     "data": {
      "image/png": "[encoded data removed]",
      "text/plain": [
       "<Figure size 864x504 with 1 Axes>"
      ]
     },
     "metadata": {
      "needs_background": "light"
     },
     "output_type": "display_data"
    }
   ],
   "source": [
    "total = len(y_test)\n",
    "one_count = np.sum(y_test)\n",
    "zero_count = total - one_count\n",
    "\n",
    "y_sort = [y for _, y in sorted(zip(y_pred, y_test), reverse=True)]\n",
    "\n",
    "x = np.arange(0, total+1)\n",
    "\n",
    "y_plot = np.append([0], np.cumsum(y_sort))\n",
    "\n",
    "plt.figure(figsize=(12,7))\n",
    "plt.plot([0, total], [0, one_count], 'g', label='Random')\n",
    "plt.plot([0, one_count, total], [0, one_count, one_count], 'b', label='Perfect Model')\n",
    "plt.plot(x, y_plot, 'y', label='KNN')\n",
    "plt.legend()"
   ]
  },
  {
   "cell_type": "markdown",
   "id": "cheap-provider",
   "metadata": {},
   "source": [
    "# ROC AUC Curve"
   ]
  },
  {
   "cell_type": "code",
   "execution_count": 16,
   "id": "selective-burden",
   "metadata": {},
   "outputs": [],
   "source": [
    "from sklearn.metrics import roc_curve, roc_auc_score\n",
    "fpr, tpr, threshold = roc_curve(y_test, lm.predict_proba(X_test)[:, 1])"
   ]
  },
  {
   "cell_type": "code",
   "execution_count": 17,
   "id": "dated-polish",
   "metadata": {},
   "outputs": [
    {
     "data": {
      "text/plain": [
       "[<matplotlib.lines.Line2D at 0x2188659d608>]"
      ]
     },
     "execution_count": 17,
     "metadata": {},
     "output_type": "execute_result"
    },
    {
     "data": {
      "image/png": "[encoded data removed]",
      "text/plain": [
       "<Figure size 432x288 with 1 Axes>"
      ]
     },
     "metadata": {
      "needs_background": "light"
     },
     "output_type": "display_data"
    }
   ],
   "source": [
    "plt.plot(fpr, tpr, ls='--', marker='.')"
   ]
  },
  {
   "cell_type": "code",
   "execution_count": 18,
   "id": "increased-lodge",
   "metadata": {},
   "outputs": [
    {
     "data": {
      "text/plain": [
       "array([0.        , 0.        , 0.        , 0.        , 0.        ,\n",
       "       0.01149425, 0.01149425, 0.02298851, 0.02298851, 0.04597701,\n",
       "       0.04597701, 0.16091954, 0.18390805, 0.26436782, 0.28735632,\n",
       "       0.34482759, 0.36781609, 0.4137931 , 0.42528736, 0.44827586,\n",
       "       0.48275862, 0.51724138, 0.59770115, 0.64367816, 0.66666667,\n",
       "       0.70114943, 0.72413793, 0.7816092 , 0.8045977 , 0.81609195,\n",
       "       0.83908046, 0.85057471, 0.91954023, 0.94252874, 1.        ])"
      ]
     },
     "execution_count": 18,
     "metadata": {},
     "output_type": "execute_result"
    }
   ],
   "source": [
    "fpr"
   ]
  },
  {
   "cell_type": "code",
   "execution_count": 19,
   "id": "indoor-wrestling",
   "metadata": {},
   "outputs": [
    {
     "data": {
      "text/plain": [
       "array([1.99999645e+00, 9.99996454e-01, 9.98356067e-01, 9.98225083e-01,\n",
       "       9.54977027e-01, 9.21936460e-01, 8.20377720e-01, 7.52661076e-01,\n",
       "       5.86519149e-01, 4.25121678e-01, 3.02001842e-01, 1.98564158e-02,\n",
       "       1.97751398e-02, 1.34182523e-02, 1.32871576e-02, 9.52126918e-03,\n",
       "       9.05808994e-03, 8.87158830e-03, 7.58861971e-03, 7.54959990e-03,\n",
       "       7.21095747e-03, 6.03931645e-03, 5.97663431e-03, 4.94985267e-03,\n",
       "       4.75485944e-03, 4.18352142e-03, 4.02252032e-03, 3.93928643e-03,\n",
       "       3.22414765e-03, 3.19893010e-03, 3.13268432e-03, 2.67740785e-03,\n",
       "       2.64952600e-03, 2.31232517e-03, 1.78129041e-03])"
      ]
     },
     "execution_count": 19,
     "metadata": {},
     "output_type": "execute_result"
    }
   ],
   "source": [
    "threshold"
   ]
  },
  {
   "cell_type": "code",
   "execution_count": 20,
   "id": "consistent-heart",
   "metadata": {},
   "outputs": [
    {
     "data": {
      "text/plain": [
       "0.9949425287356322"
      ]
     },
     "execution_count": 20,
     "metadata": {},
     "output_type": "execute_result"
    }
   ],
   "source": [
    "roc_auc_score(y_test, lm.predict_proba(X_test)[:, 1])"
   ]
  }
 ],
 "metadata": {
  "kernelspec": {
   "display_name": "Python 3",
   "language": "python",
   "name": "python3"
  },
  "language_info": {
   "codemirror_mode": {
    "name": "ipython",
    "version": 3
   },
   "file_extension": ".py",
   "mimetype": "text/x-python",
   "name": "python",
   "nbconvert_exporter": "python",
   "pygments_lexer": "ipython3",
   "version": "3.7.4"
  }
 },
 "nbformat": 4,
 "nbformat_minor": 5
}
