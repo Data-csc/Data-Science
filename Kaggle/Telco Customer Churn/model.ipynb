{
 "cells": [
  {
   "cell_type": "markdown",
   "id": "handy-singer",
   "metadata": {},
   "source": [
    "# Import Libraries"
   ]
  },
  {
   "cell_type": "code",
   "execution_count": 92,
   "id": "equivalent-insider",
   "metadata": {},
   "outputs": [],
   "source": [
    "import pandas as pd\n",
    "import numpy as np\n",
    "import matplotlib.pyplot as plt\n",
    "import seaborn as sns"
   ]
  },
  {
   "cell_type": "code",
   "execution_count": 93,
   "id": "distinct-lesson",
   "metadata": {},
   "outputs": [],
   "source": [
    "%matplotlib inline"
   ]
  },
  {
   "cell_type": "markdown",
   "id": "intended-hours",
   "metadata": {},
   "source": [
    "# Read Dataset"
   ]
  },
  {
   "cell_type": "code",
   "execution_count": 94,
   "id": "popular-extent",
   "metadata": {},
   "outputs": [],
   "source": [
    "dataset = pd.read_csv('WA_Fn-UseC_-Telco-Customer-Churn.csv')"
   ]
  },
  {
   "cell_type": "code",
   "execution_count": 95,
   "id": "subtle-truck",
   "metadata": {},
   "outputs": [
    {
     "data": {
      "text/html": [
       "<div>\n",
       "<style scoped>\n",
       "    .dataframe tbody tr th:only-of-type {\n",
       "        vertical-align: middle;\n",
       "    }\n",
       "\n",
       "    .dataframe tbody tr th {\n",
       "        vertical-align: top;\n",
       "    }\n",
       "\n",
       "    .dataframe thead th {\n",
       "        text-align: right;\n",
       "    }\n",
       "</style>\n",
       "<table border=\"1\" class=\"dataframe\">\n",
       "  <thead>\n",
       "    <tr style=\"text-align: right;\">\n",
       "      <th></th>\n",
       "      <th>customerID</th>\n",
       "      <th>gender</th>\n",
       "      <th>SeniorCitizen</th>\n",
       "      <th>Partner</th>\n",
       "      <th>Dependents</th>\n",
       "      <th>tenure</th>\n",
       "      <th>PhoneService</th>\n",
       "      <th>MultipleLines</th>\n",
       "      <th>InternetService</th>\n",
       "      <th>OnlineSecurity</th>\n",
       "      <th>...</th>\n",
       "      <th>DeviceProtection</th>\n",
       "      <th>TechSupport</th>\n",
       "      <th>StreamingTV</th>\n",
       "      <th>StreamingMovies</th>\n",
       "      <th>Contract</th>\n",
       "      <th>PaperlessBilling</th>\n",
       "      <th>PaymentMethod</th>\n",
       "      <th>MonthlyCharges</th>\n",
       "      <th>TotalCharges</th>\n",
       "      <th>Churn</th>\n",
       "    </tr>\n",
       "  </thead>\n",
       "  <tbody>\n",
       "    <tr>\n",
       "      <th>0</th>\n",
       "      <td>7590-VHVEG</td>\n",
       "      <td>Female</td>\n",
       "      <td>0</td>\n",
       "      <td>Yes</td>\n",
       "      <td>No</td>\n",
       "      <td>1</td>\n",
       "      <td>No</td>\n",
       "      <td>No phone service</td>\n",
       "      <td>DSL</td>\n",
       "      <td>No</td>\n",
       "      <td>...</td>\n",
       "      <td>No</td>\n",
       "      <td>No</td>\n",
       "      <td>No</td>\n",
       "      <td>No</td>\n",
       "      <td>Month-to-month</td>\n",
       "      <td>Yes</td>\n",
       "      <td>Electronic check</td>\n",
       "      <td>29.85</td>\n",
       "      <td>29.85</td>\n",
       "      <td>No</td>\n",
       "    </tr>\n",
       "    <tr>\n",
       "      <th>1</th>\n",
       "      <td>5575-GNVDE</td>\n",
       "      <td>Male</td>\n",
       "      <td>0</td>\n",
       "      <td>No</td>\n",
       "      <td>No</td>\n",
       "      <td>34</td>\n",
       "      <td>Yes</td>\n",
       "      <td>No</td>\n",
       "      <td>DSL</td>\n",
       "      <td>Yes</td>\n",
       "      <td>...</td>\n",
       "      <td>Yes</td>\n",
       "      <td>No</td>\n",
       "      <td>No</td>\n",
       "      <td>No</td>\n",
       "      <td>One year</td>\n",
       "      <td>No</td>\n",
       "      <td>Mailed check</td>\n",
       "      <td>56.95</td>\n",
       "      <td>1889.5</td>\n",
       "      <td>No</td>\n",
       "    </tr>\n",
       "    <tr>\n",
       "      <th>2</th>\n",
       "      <td>3668-QPYBK</td>\n",
       "      <td>Male</td>\n",
       "      <td>0</td>\n",
       "      <td>No</td>\n",
       "      <td>No</td>\n",
       "      <td>2</td>\n",
       "      <td>Yes</td>\n",
       "      <td>No</td>\n",
       "      <td>DSL</td>\n",
       "      <td>Yes</td>\n",
       "      <td>...</td>\n",
       "      <td>No</td>\n",
       "      <td>No</td>\n",
       "      <td>No</td>\n",
       "      <td>No</td>\n",
       "      <td>Month-to-month</td>\n",
       "      <td>Yes</td>\n",
       "      <td>Mailed check</td>\n",
       "      <td>53.85</td>\n",
       "      <td>108.15</td>\n",
       "      <td>Yes</td>\n",
       "    </tr>\n",
       "    <tr>\n",
       "      <th>3</th>\n",
       "      <td>7795-CFOCW</td>\n",
       "      <td>Male</td>\n",
       "      <td>0</td>\n",
       "      <td>No</td>\n",
       "      <td>No</td>\n",
       "      <td>45</td>\n",
       "      <td>No</td>\n",
       "      <td>No phone service</td>\n",
       "      <td>DSL</td>\n",
       "      <td>Yes</td>\n",
       "      <td>...</td>\n",
       "      <td>Yes</td>\n",
       "      <td>Yes</td>\n",
       "      <td>No</td>\n",
       "      <td>No</td>\n",
       "      <td>One year</td>\n",
       "      <td>No</td>\n",
       "      <td>Bank transfer (automatic)</td>\n",
       "      <td>42.30</td>\n",
       "      <td>1840.75</td>\n",
       "      <td>No</td>\n",
       "    </tr>\n",
       "    <tr>\n",
       "      <th>4</th>\n",
       "      <td>9237-HQITU</td>\n",
       "      <td>Female</td>\n",
       "      <td>0</td>\n",
       "      <td>No</td>\n",
       "      <td>No</td>\n",
       "      <td>2</td>\n",
       "      <td>Yes</td>\n",
       "      <td>No</td>\n",
       "      <td>Fiber optic</td>\n",
       "      <td>No</td>\n",
       "      <td>...</td>\n",
       "      <td>No</td>\n",
       "      <td>No</td>\n",
       "      <td>No</td>\n",
       "      <td>No</td>\n",
       "      <td>Month-to-month</td>\n",
       "      <td>Yes</td>\n",
       "      <td>Electronic check</td>\n",
       "      <td>70.70</td>\n",
       "      <td>151.65</td>\n",
       "      <td>Yes</td>\n",
       "    </tr>\n",
       "  </tbody>\n",
       "</table>\n",
       "<p>5 rows × 21 columns</p>\n",
       "</div>"
      ],
      "text/plain": [
       "   customerID  gender  SeniorCitizen Partner Dependents  tenure PhoneService  \\\n",
       "0  7590-VHVEG  Female              0     Yes         No       1           No   \n",
       "1  5575-GNVDE    Male              0      No         No      34          Yes   \n",
       "2  3668-QPYBK    Male              0      No         No       2          Yes   \n",
       "3  7795-CFOCW    Male              0      No         No      45           No   \n",
       "4  9237-HQITU  Female              0      No         No       2          Yes   \n",
       "\n",
       "      MultipleLines InternetService OnlineSecurity  ... DeviceProtection  \\\n",
       "0  No phone service             DSL             No  ...               No   \n",
       "1                No             DSL            Yes  ...              Yes   \n",
       "2                No             DSL            Yes  ...               No   \n",
       "3  No phone service             DSL            Yes  ...              Yes   \n",
       "4                No     Fiber optic             No  ...               No   \n",
       "\n",
       "  TechSupport StreamingTV StreamingMovies        Contract PaperlessBilling  \\\n",
       "0          No          No              No  Month-to-month              Yes   \n",
       "1          No          No              No        One year               No   \n",
       "2          No          No              No  Month-to-month              Yes   \n",
       "3         Yes          No              No        One year               No   \n",
       "4          No          No              No  Month-to-month              Yes   \n",
       "\n",
       "               PaymentMethod MonthlyCharges  TotalCharges Churn  \n",
       "0           Electronic check          29.85         29.85    No  \n",
       "1               Mailed check          56.95        1889.5    No  \n",
       "2               Mailed check          53.85        108.15   Yes  \n",
       "3  Bank transfer (automatic)          42.30       1840.75    No  \n",
       "4           Electronic check          70.70        151.65   Yes  \n",
       "\n",
       "[5 rows x 21 columns]"
      ]
     },
     "execution_count": 95,
     "metadata": {},
     "output_type": "execute_result"
    }
   ],
   "source": [
    "dataset.head(5)"
   ]
  },
  {
   "cell_type": "code",
   "execution_count": 96,
   "id": "experimental-mercury",
   "metadata": {},
   "outputs": [
    {
     "name": "stdout",
     "output_type": "stream",
     "text": [
      "<class 'pandas.core.frame.DataFrame'>\n",
      "RangeIndex: 7043 entries, 0 to 7042\n",
      "Data columns (total 21 columns):\n",
      " #   Column            Non-Null Count  Dtype  \n",
      "---  ------            --------------  -----  \n",
      " 0   customerID        7043 non-null   object \n",
      " 1   gender            7043 non-null   object \n",
      " 2   SeniorCitizen     7043 non-null   int64  \n",
      " 3   Partner           7043 non-null   object \n",
      " 4   Dependents        7043 non-null   object \n",
      " 5   tenure            7043 non-null   int64  \n",
      " 6   PhoneService      7043 non-null   object \n",
      " 7   MultipleLines     7043 non-null   object \n",
      " 8   InternetService   7043 non-null   object \n",
      " 9   OnlineSecurity    7043 non-null   object \n",
      " 10  OnlineBackup      7043 non-null   object \n",
      " 11  DeviceProtection  7043 non-null   object \n",
      " 12  TechSupport       7043 non-null   object \n",
      " 13  StreamingTV       7043 non-null   object \n",
      " 14  StreamingMovies   7043 non-null   object \n",
      " 15  Contract          7043 non-null   object \n",
      " 16  PaperlessBilling  7043 non-null   object \n",
      " 17  PaymentMethod     7043 non-null   object \n",
      " 18  MonthlyCharges    7043 non-null   float64\n",
      " 19  TotalCharges      7043 non-null   object \n",
      " 20  Churn             7043 non-null   object \n",
      "dtypes: float64(1), int64(2), object(18)\n",
      "memory usage: 1.1+ MB\n"
     ]
    }
   ],
   "source": [
    "dataset.info()"
   ]
  },
  {
   "cell_type": "markdown",
   "id": "academic-irrigation",
   "metadata": {},
   "source": [
    "# EDA"
   ]
  },
  {
   "cell_type": "code",
   "execution_count": 97,
   "id": "macro-titanium",
   "metadata": {},
   "outputs": [
    {
     "data": {
      "text/plain": [
       "<matplotlib.axes._subplots.AxesSubplot at 0x1e78cebe048>"
      ]
     },
     "execution_count": 97,
     "metadata": {},
     "output_type": "execute_result"
    },
    {
     "data": {
      "image/png": "[encoded data removed]",
      "text/plain": [
       "<Figure size 432x288 with 1 Axes>"
      ]
     },
     "metadata": {
      "needs_background": "light"
     },
     "output_type": "display_data"
    }
   ],
   "source": [
    "sns.countplot(x='Churn', data=dataset)"
   ]
  },
  {
   "cell_type": "code",
   "execution_count": 98,
   "id": "iraqi-disclaimer",
   "metadata": {},
   "outputs": [
    {
     "data": {
      "text/plain": [
       "customerID          7043\n",
       "gender                 2\n",
       "SeniorCitizen          2\n",
       "Partner                2\n",
       "Dependents             2\n",
       "tenure                73\n",
       "PhoneService           2\n",
       "MultipleLines          3\n",
       "InternetService        3\n",
       "OnlineSecurity         3\n",
       "OnlineBackup           3\n",
       "DeviceProtection       3\n",
       "TechSupport            3\n",
       "StreamingTV            3\n",
       "StreamingMovies        3\n",
       "Contract               3\n",
       "PaperlessBilling       2\n",
       "PaymentMethod          4\n",
       "MonthlyCharges      1585\n",
       "TotalCharges        6531\n",
       "Churn                  2\n",
       "dtype: int64"
      ]
     },
     "execution_count": 98,
     "metadata": {},
     "output_type": "execute_result"
    }
   ],
   "source": [
    "dataset.nunique()"
   ]
  },
  {
   "cell_type": "code",
   "execution_count": 99,
   "id": "characteristic-marathon",
   "metadata": {},
   "outputs": [],
   "source": [
    "dataset.drop(['customerID'], axis=1, inplace=True)"
   ]
  },
  {
   "cell_type": "code",
   "execution_count": 100,
   "id": "conservative-domain",
   "metadata": {},
   "outputs": [
    {
     "data": {
      "text/plain": [
       "array(['DSL', 'Fiber optic', 'No'], dtype=object)"
      ]
     },
     "execution_count": 100,
     "metadata": {},
     "output_type": "execute_result"
    }
   ],
   "source": [
    "dataset.InternetService.unique()"
   ]
  },
  {
   "cell_type": "code",
   "execution_count": 101,
   "id": "measured-cedar",
   "metadata": {},
   "outputs": [],
   "source": [
    "dataset.Churn.replace('Yes', 1, inplace=True)\n",
    "dataset.Churn.replace('No', 0, inplace=True)\n",
    "\n",
    "dataset.Partner.replace('Yes', 1, inplace=True)\n",
    "dataset.Partner.replace('No', 0, inplace=True)\n",
    "\n",
    "dataset.Dependents.replace('Yes', 1, inplace=True)\n",
    "dataset.Dependents.replace('No', 0, inplace=True)\n",
    "\n",
    "dataset.PhoneService.replace('Yes', 1, inplace=True)\n",
    "dataset.PhoneService.replace('No', 0, inplace=True)\n",
    "\n",
    "dataset.PaperlessBilling.replace('Yes', 1, inplace=True)\n",
    "dataset.PaperlessBilling.replace('No', 0, inplace=True)"
   ]
  },
  {
   "cell_type": "code",
   "execution_count": 102,
   "id": "passive-reality",
   "metadata": {},
   "outputs": [],
   "source": [
    "numerical_culumns = [column for column in dataset if dataset[column].dtype == 'int64']"
   ]
  },
  {
   "cell_type": "markdown",
   "id": "joined-saint",
   "metadata": {},
   "source": [
    "## Numerical Data"
   ]
  },
  {
   "cell_type": "code",
   "execution_count": 103,
   "id": "corrected-stroke",
   "metadata": {},
   "outputs": [
    {
     "data": {
      "text/plain": [
       "<matplotlib.axes._subplots.AxesSubplot at 0x1e78ceba788>"
      ]
     },
     "execution_count": 103,
     "metadata": {},
     "output_type": "execute_result"
    },
    {
     "data": {
      "image/png": "[encoded data removed]",
      "text/plain": [
       "<Figure size 864x504 with 2 Axes>"
      ]
     },
     "metadata": {
      "needs_background": "light"
     },
     "output_type": "display_data"
    }
   ],
   "source": [
    "plt.figure(figsize=(12,7))\n",
    "sns.heatmap(dataset[numerical_culumns].corr(), annot=True)"
   ]
  },
  {
   "cell_type": "code",
   "execution_count": 104,
   "id": "precise-state",
   "metadata": {},
   "outputs": [
    {
     "data": {
      "text/plain": [
       "<matplotlib.axes._subplots.AxesSubplot at 0x1e78cf3dd08>"
      ]
     },
     "execution_count": 104,
     "metadata": {},
     "output_type": "execute_result"
    },
    {
     "data": {
      "image/png": "[encoded data removed]",
      "text/plain": [
       "<Figure size 432x288 with 1 Axes>"
      ]
     },
     "metadata": {
      "needs_background": "light"
     },
     "output_type": "display_data"
    }
   ],
   "source": [
    "sns.histplot(x='tenure', data=dataset, hue='Churn', multiple='dodge')"
   ]
  },
  {
   "cell_type": "code",
   "execution_count": 105,
   "id": "expected-providence",
   "metadata": {},
   "outputs": [
    {
     "data": {
      "text/plain": [
       "<matplotlib.axes._subplots.AxesSubplot at 0x1e78cf56b48>"
      ]
     },
     "execution_count": 105,
     "metadata": {},
     "output_type": "execute_result"
    },
    {
     "data": {
      "image/png": "[encoded data removed]",
      "text/plain": [
       "<Figure size 432x288 with 1 Axes>"
      ]
     },
     "metadata": {
      "needs_background": "light"
     },
     "output_type": "display_data"
    }
   ],
   "source": [
    "sns.histplot(x='MonthlyCharges', data=dataset, hue='Churn', multiple='dodge')"
   ]
  },
  {
   "cell_type": "markdown",
   "id": "proper-fountain",
   "metadata": {},
   "source": [
    "## Categorical Data"
   ]
  },
  {
   "cell_type": "markdown",
   "id": "round-bankruptcy",
   "metadata": {},
   "source": [
    "### One Hot Encoding"
   ]
  },
  {
   "cell_type": "code",
   "execution_count": 106,
   "id": "compact-letters",
   "metadata": {},
   "outputs": [],
   "source": [
    "dataset.TotalCharges.replace(' ', np.nan, inplace=True)\n",
    "dataset.dropna(inplace=True)"
   ]
  },
  {
   "cell_type": "code",
   "execution_count": 107,
   "id": "velvet-intersection",
   "metadata": {},
   "outputs": [],
   "source": [
    "dataset.TotalCharges = dataset.TotalCharges.astype('float64')"
   ]
  },
  {
   "cell_type": "code",
   "execution_count": 108,
   "id": "enclosed-password",
   "metadata": {},
   "outputs": [],
   "source": [
    "X = dataset.iloc[:, :-1].values\n",
    "y = dataset.iloc[:, -1].values"
   ]
  },
  {
   "cell_type": "code",
   "execution_count": 110,
   "id": "bound-segment",
   "metadata": {},
   "outputs": [],
   "source": [
    "from sklearn.compose import ColumnTransformer\n",
    "from sklearn.preprocessing import OneHotEncoder\n",
    "\n",
    "transformer = ColumnTransformer(transformers=[('encoder', OneHotEncoder(drop='first'), [0, 6, 7, 8, 9, 10, 11, 12, 13, 14, 16])], remainder='passthrough')\n",
    "X = transformer.fit_transform(X)"
   ]
  },
  {
   "cell_type": "code",
   "execution_count": 111,
   "id": "boring-animation",
   "metadata": {},
   "outputs": [],
   "source": [
    "from imblearn.combine import SMOTETomek\n",
    "\n",
    "smk = SMOTETomek()\n",
    "X, y = smk.fit_resample(X, y)"
   ]
  },
  {
   "cell_type": "markdown",
   "id": "linear-ranch",
   "metadata": {},
   "source": [
    "# Split and Feature Scaling"
   ]
  },
  {
   "cell_type": "code",
   "execution_count": 112,
   "id": "raising-disorder",
   "metadata": {},
   "outputs": [],
   "source": [
    "from sklearn.model_selection import train_test_split\n",
    "X_train, X_test, y_train, y_test = train_test_split(X, y, test_size=0.2, random_state=42)"
   ]
  },
  {
   "cell_type": "code",
   "execution_count": 113,
   "id": "duplicate-growing",
   "metadata": {},
   "outputs": [],
   "source": [
    "from sklearn.preprocessing import MinMaxScaler\n",
    "scaler = MinMaxScaler()\n",
    "X_train[:, [25, 28, 29]] = scaler.fit_transform(X_train[:, [25, 28, 29]])\n",
    "X_test[:, [25, 28, 29]] = scaler.transform(X_test[:, [25, 28, 29]])"
   ]
  },
  {
   "cell_type": "code",
   "execution_count": 114,
   "id": "hollow-probability",
   "metadata": {},
   "outputs": [
    {
     "data": {
      "text/plain": [
       "30"
      ]
     },
     "execution_count": 114,
     "metadata": {},
     "output_type": "execute_result"
    }
   ],
   "source": [
    "len(X_train[0])"
   ]
  },
  {
   "cell_type": "markdown",
   "id": "strange-tucson",
   "metadata": {},
   "source": [
    "# Model"
   ]
  },
  {
   "cell_type": "code",
   "execution_count": 119,
   "id": "viral-broadcast",
   "metadata": {},
   "outputs": [],
   "source": [
    "from tensorflow.keras.layers import Dense, Dropout, BatchNormalization\n",
    "from tensorflow.keras.models import Sequential\n",
    "from tensorflow.keras.regularizers import l2\n",
    "\n",
    "model = Sequential()\n",
    "\n",
    "model.add(Dense(30, activation='relu'))\n",
    "\n",
    "model.add(Dense(15, activation='relu', kernel_regularizer=l2(0.01)))\n",
    "\n",
    "model.add(Dropout(0.5))\n",
    "\n",
    "model.add(Dense(15, activation='relu', kernel_regularizer=l2(0.01)))\n",
    "\n",
    "model.add(Dropout(0.5))\n",
    "\n",
    "model.add(Dense(1, activation='sigmoid'))\n",
    "\n",
    "model.compile(optimizer='adam', metrics=['accuracy'], loss='binary_crossentropy')"
   ]
  },
  {
   "cell_type": "code",
   "execution_count": 120,
   "id": "mature-deployment",
   "metadata": {},
   "outputs": [],
   "source": [
    "from tensorflow.keras.callbacks import EarlyStopping, TensorBoard\n",
    "\n",
    "es = EarlyStopping(patience=20)"
   ]
  },
  {
   "cell_type": "code",
   "execution_count": 121,
   "id": "warming-nothing",
   "metadata": {},
   "outputs": [],
   "source": [
    "X_train = np.asarray(X_train).astype(np.float32)\n",
    "X_test = np.asarray(X_test).astype(np.float32)"
   ]
  },
  {
   "cell_type": "code",
   "execution_count": 122,
   "id": "composed-budget",
   "metadata": {},
   "outputs": [
    {
     "name": "stdout",
     "output_type": "stream",
     "text": [
      "Epoch 1/100\n",
      "238/238 [==============================] - 1s 3ms/step - loss: 0.8666 - accuracy: 0.6189 - val_loss: 0.6666 - val_accuracy: 0.7737\n",
      "Epoch 2/100\n",
      "238/238 [==============================] - 0s 2ms/step - loss: 0.6409 - accuracy: 0.7464 - val_loss: 0.5459 - val_accuracy: 0.7811\n",
      "Epoch 3/100\n",
      "238/238 [==============================] - 0s 2ms/step - loss: 0.5670 - accuracy: 0.7766 - val_loss: 0.5098 - val_accuracy: 0.7863\n",
      "Epoch 4/100\n",
      "238/238 [==============================] - 0s 2ms/step - loss: 0.5399 - accuracy: 0.7840 - val_loss: 0.4949 - val_accuracy: 0.7884\n",
      "Epoch 5/100\n",
      "238/238 [==============================] - 0s 2ms/step - loss: 0.5306 - accuracy: 0.7801 - val_loss: 0.4869 - val_accuracy: 0.7895\n",
      "Epoch 6/100\n",
      "238/238 [==============================] - 0s 2ms/step - loss: 0.5208 - accuracy: 0.7823 - val_loss: 0.4841 - val_accuracy: 0.7905\n",
      "Epoch 7/100\n",
      "238/238 [==============================] - 0s 2ms/step - loss: 0.5127 - accuracy: 0.7842 - val_loss: 0.4782 - val_accuracy: 0.7900\n",
      "Epoch 8/100\n",
      "238/238 [==============================] - 0s 2ms/step - loss: 0.5127 - accuracy: 0.7903 - val_loss: 0.4762 - val_accuracy: 0.7879\n",
      "Epoch 9/100\n",
      "238/238 [==============================] - 0s 2ms/step - loss: 0.5030 - accuracy: 0.7882 - val_loss: 0.4694 - val_accuracy: 0.7884\n",
      "Epoch 10/100\n",
      "238/238 [==============================] - 0s 2ms/step - loss: 0.4972 - accuracy: 0.7934 - val_loss: 0.4674 - val_accuracy: 0.7937\n",
      "Epoch 11/100\n",
      "238/238 [==============================] - 0s 2ms/step - loss: 0.4926 - accuracy: 0.7871 - val_loss: 0.4632 - val_accuracy: 0.7916\n",
      "Epoch 12/100\n",
      "238/238 [==============================] - 0s 2ms/step - loss: 0.4962 - accuracy: 0.7967 - val_loss: 0.4620 - val_accuracy: 0.7937\n",
      "Epoch 13/100\n",
      "238/238 [==============================] - 0s 2ms/step - loss: 0.4911 - accuracy: 0.7953 - val_loss: 0.4596 - val_accuracy: 0.7958\n",
      "Epoch 14/100\n",
      "238/238 [==============================] - 0s 2ms/step - loss: 0.4908 - accuracy: 0.7966 - val_loss: 0.4586 - val_accuracy: 0.7979\n",
      "Epoch 15/100\n",
      "238/238 [==============================] - 1s 2ms/step - loss: 0.4870 - accuracy: 0.7967 - val_loss: 0.4564 - val_accuracy: 0.7984\n",
      "Epoch 16/100\n",
      "238/238 [==============================] - 1s 3ms/step - loss: 0.4853 - accuracy: 0.7984 - val_loss: 0.4628 - val_accuracy: 0.7921\n",
      "Epoch 17/100\n",
      "238/238 [==============================] - 1s 2ms/step - loss: 0.4846 - accuracy: 0.7984 - val_loss: 0.4556 - val_accuracy: 0.8005\n",
      "Epoch 18/100\n",
      "238/238 [==============================] - 1s 2ms/step - loss: 0.4791 - accuracy: 0.8053 - val_loss: 0.4522 - val_accuracy: 0.8026\n",
      "Epoch 19/100\n",
      "238/238 [==============================] - 0s 2ms/step - loss: 0.4741 - accuracy: 0.8006 - val_loss: 0.4511 - val_accuracy: 0.8042\n",
      "Epoch 20/100\n",
      "238/238 [==============================] - 0s 2ms/step - loss: 0.4775 - accuracy: 0.8009 - val_loss: 0.4498 - val_accuracy: 0.8068\n",
      "Epoch 21/100\n",
      "238/238 [==============================] - 0s 2ms/step - loss: 0.4829 - accuracy: 0.8000 - val_loss: 0.4492 - val_accuracy: 0.8068\n",
      "Epoch 22/100\n",
      "238/238 [==============================] - 0s 2ms/step - loss: 0.4761 - accuracy: 0.8033 - val_loss: 0.4479 - val_accuracy: 0.8105\n",
      "Epoch 23/100\n",
      "238/238 [==============================] - 0s 2ms/step - loss: 0.4709 - accuracy: 0.8057 - val_loss: 0.4492 - val_accuracy: 0.8063\n",
      "Epoch 24/100\n",
      "238/238 [==============================] - 0s 2ms/step - loss: 0.4718 - accuracy: 0.8062 - val_loss: 0.4436 - val_accuracy: 0.8095\n",
      "Epoch 25/100\n",
      "238/238 [==============================] - 0s 2ms/step - loss: 0.4683 - accuracy: 0.8052 - val_loss: 0.4431 - val_accuracy: 0.8074\n",
      "Epoch 26/100\n",
      "238/238 [==============================] - 0s 2ms/step - loss: 0.4612 - accuracy: 0.8053 - val_loss: 0.4453 - val_accuracy: 0.8063\n",
      "Epoch 27/100\n",
      "238/238 [==============================] - 1s 2ms/step - loss: 0.4590 - accuracy: 0.8087 - val_loss: 0.4492 - val_accuracy: 0.8053\n",
      "Epoch 28/100\n",
      "238/238 [==============================] - 1s 2ms/step - loss: 0.4650 - accuracy: 0.8102 - val_loss: 0.4438 - val_accuracy: 0.8053\n",
      "Epoch 29/100\n",
      "238/238 [==============================] - 0s 2ms/step - loss: 0.4639 - accuracy: 0.8091 - val_loss: 0.4405 - val_accuracy: 0.8100\n",
      "Epoch 30/100\n",
      "238/238 [==============================] - 0s 2ms/step - loss: 0.4570 - accuracy: 0.8138 - val_loss: 0.4409 - val_accuracy: 0.8116\n",
      "Epoch 31/100\n",
      "238/238 [==============================] - 0s 2ms/step - loss: 0.4560 - accuracy: 0.8132 - val_loss: 0.4387 - val_accuracy: 0.8116\n",
      "Epoch 32/100\n",
      "238/238 [==============================] - 0s 2ms/step - loss: 0.4544 - accuracy: 0.8160 - val_loss: 0.4408 - val_accuracy: 0.8121\n",
      "Epoch 33/100\n",
      "238/238 [==============================] - 0s 2ms/step - loss: 0.4574 - accuracy: 0.8123 - val_loss: 0.4378 - val_accuracy: 0.8163\n",
      "Epoch 34/100\n",
      "238/238 [==============================] - 0s 2ms/step - loss: 0.4522 - accuracy: 0.8212 - val_loss: 0.4426 - val_accuracy: 0.8105\n",
      "Epoch 35/100\n",
      "238/238 [==============================] - 1s 2ms/step - loss: 0.4524 - accuracy: 0.8162 - val_loss: 0.4413 - val_accuracy: 0.8121\n",
      "Epoch 36/100\n",
      "238/238 [==============================] - 1s 2ms/step - loss: 0.4490 - accuracy: 0.8196 - val_loss: 0.4357 - val_accuracy: 0.8168\n",
      "Epoch 37/100\n",
      "238/238 [==============================] - 0s 2ms/step - loss: 0.4490 - accuracy: 0.8145 - val_loss: 0.4385 - val_accuracy: 0.8158\n",
      "Epoch 38/100\n",
      "238/238 [==============================] - 0s 2ms/step - loss: 0.4463 - accuracy: 0.8217 - val_loss: 0.4366 - val_accuracy: 0.8174\n",
      "Epoch 39/100\n",
      "238/238 [==============================] - 0s 2ms/step - loss: 0.4471 - accuracy: 0.8167 - val_loss: 0.4374 - val_accuracy: 0.8163\n",
      "Epoch 40/100\n",
      "238/238 [==============================] - 0s 2ms/step - loss: 0.4473 - accuracy: 0.8216 - val_loss: 0.4378 - val_accuracy: 0.8174\n",
      "Epoch 41/100\n",
      "238/238 [==============================] - 1s 2ms/step - loss: 0.4412 - accuracy: 0.8227 - val_loss: 0.4371 - val_accuracy: 0.8158\n",
      "Epoch 42/100\n",
      "238/238 [==============================] - 0s 2ms/step - loss: 0.4500 - accuracy: 0.8175 - val_loss: 0.4438 - val_accuracy: 0.8116\n",
      "Epoch 43/100\n",
      "238/238 [==============================] - 1s 2ms/step - loss: 0.4417 - accuracy: 0.8215 - val_loss: 0.4377 - val_accuracy: 0.8168\n",
      "Epoch 44/100\n",
      "238/238 [==============================] - 0s 2ms/step - loss: 0.4416 - accuracy: 0.8256 - val_loss: 0.4367 - val_accuracy: 0.8132\n",
      "Epoch 45/100\n",
      "238/238 [==============================] - 0s 2ms/step - loss: 0.4392 - accuracy: 0.8262 - val_loss: 0.4368 - val_accuracy: 0.8179\n",
      "Epoch 46/100\n",
      "238/238 [==============================] - 0s 2ms/step - loss: 0.4404 - accuracy: 0.8242 - val_loss: 0.4329 - val_accuracy: 0.8153\n",
      "Epoch 47/100\n",
      "238/238 [==============================] - 0s 2ms/step - loss: 0.4444 - accuracy: 0.8244 - val_loss: 0.4358 - val_accuracy: 0.8216\n",
      "Epoch 48/100\n",
      "238/238 [==============================] - 0s 2ms/step - loss: 0.4371 - accuracy: 0.8221 - val_loss: 0.4347 - val_accuracy: 0.8163\n",
      "Epoch 49/100\n",
      "238/238 [==============================] - 0s 2ms/step - loss: 0.4330 - accuracy: 0.8299 - val_loss: 0.4341 - val_accuracy: 0.8158\n",
      "Epoch 50/100\n",
      "238/238 [==============================] - 0s 2ms/step - loss: 0.4357 - accuracy: 0.8264 - val_loss: 0.4340 - val_accuracy: 0.8137\n",
      "Epoch 51/100\n",
      "238/238 [==============================] - 0s 2ms/step - loss: 0.4284 - accuracy: 0.8279 - val_loss: 0.4353 - val_accuracy: 0.8174\n",
      "Epoch 52/100\n",
      "238/238 [==============================] - 0s 2ms/step - loss: 0.4287 - accuracy: 0.8283 - val_loss: 0.4359 - val_accuracy: 0.8226\n",
      "Epoch 53/100\n",
      "238/238 [==============================] - 0s 2ms/step - loss: 0.4323 - accuracy: 0.8283 - val_loss: 0.4311 - val_accuracy: 0.8158\n",
      "Epoch 54/100\n",
      "238/238 [==============================] - 0s 2ms/step - loss: 0.4352 - accuracy: 0.8265 - val_loss: 0.4340 - val_accuracy: 0.8132\n",
      "Epoch 55/100\n",
      "238/238 [==============================] - 0s 2ms/step - loss: 0.4229 - accuracy: 0.8332 - val_loss: 0.4296 - val_accuracy: 0.8147\n",
      "Epoch 56/100\n",
      "238/238 [==============================] - 0s 2ms/step - loss: 0.4253 - accuracy: 0.8315 - val_loss: 0.4324 - val_accuracy: 0.8216\n",
      "Epoch 57/100\n",
      "238/238 [==============================] - 0s 2ms/step - loss: 0.4259 - accuracy: 0.8323 - val_loss: 0.4290 - val_accuracy: 0.8205\n"
     ]
    },
    {
     "name": "stdout",
     "output_type": "stream",
     "text": [
      "Epoch 58/100\n",
      "238/238 [==============================] - 0s 2ms/step - loss: 0.4231 - accuracy: 0.8314 - val_loss: 0.4330 - val_accuracy: 0.8226\n",
      "Epoch 59/100\n",
      "238/238 [==============================] - 0s 2ms/step - loss: 0.4218 - accuracy: 0.8352 - val_loss: 0.4280 - val_accuracy: 0.8200\n",
      "Epoch 60/100\n",
      "238/238 [==============================] - 0s 2ms/step - loss: 0.4187 - accuracy: 0.8373 - val_loss: 0.4347 - val_accuracy: 0.8147\n",
      "Epoch 61/100\n",
      "238/238 [==============================] - 0s 2ms/step - loss: 0.4224 - accuracy: 0.8343 - val_loss: 0.4305 - val_accuracy: 0.8179\n",
      "Epoch 62/100\n",
      "238/238 [==============================] - 0s 2ms/step - loss: 0.4191 - accuracy: 0.8365 - val_loss: 0.4297 - val_accuracy: 0.8179\n",
      "Epoch 63/100\n",
      "238/238 [==============================] - 0s 2ms/step - loss: 0.4188 - accuracy: 0.8387 - val_loss: 0.4268 - val_accuracy: 0.8216\n",
      "Epoch 64/100\n",
      "238/238 [==============================] - 0s 2ms/step - loss: 0.4147 - accuracy: 0.8365 - val_loss: 0.4298 - val_accuracy: 0.8221\n",
      "Epoch 65/100\n",
      "238/238 [==============================] - 0s 2ms/step - loss: 0.4220 - accuracy: 0.8390 - val_loss: 0.4263 - val_accuracy: 0.8216\n",
      "Epoch 66/100\n",
      "238/238 [==============================] - 0s 2ms/step - loss: 0.4172 - accuracy: 0.8406 - val_loss: 0.4262 - val_accuracy: 0.8137\n",
      "Epoch 67/100\n",
      "238/238 [==============================] - 0s 2ms/step - loss: 0.4157 - accuracy: 0.8428 - val_loss: 0.4290 - val_accuracy: 0.8184\n",
      "Epoch 68/100\n",
      "238/238 [==============================] - 0s 2ms/step - loss: 0.4132 - accuracy: 0.8431 - val_loss: 0.4306 - val_accuracy: 0.8205\n",
      "Epoch 69/100\n",
      "238/238 [==============================] - 0s 2ms/step - loss: 0.4166 - accuracy: 0.8416 - val_loss: 0.4248 - val_accuracy: 0.8226\n",
      "Epoch 70/100\n",
      "238/238 [==============================] - 0s 2ms/step - loss: 0.4169 - accuracy: 0.8397 - val_loss: 0.4386 - val_accuracy: 0.8116\n",
      "Epoch 71/100\n",
      "238/238 [==============================] - 0s 2ms/step - loss: 0.4136 - accuracy: 0.8400 - val_loss: 0.4307 - val_accuracy: 0.8258\n",
      "Epoch 72/100\n",
      "238/238 [==============================] - 0s 2ms/step - loss: 0.4062 - accuracy: 0.8506 - val_loss: 0.4255 - val_accuracy: 0.8216\n",
      "Epoch 73/100\n",
      "238/238 [==============================] - 0s 2ms/step - loss: 0.4128 - accuracy: 0.8435 - val_loss: 0.4311 - val_accuracy: 0.8168\n",
      "Epoch 74/100\n",
      "238/238 [==============================] - 0s 2ms/step - loss: 0.4135 - accuracy: 0.8466 - val_loss: 0.4340 - val_accuracy: 0.8111\n",
      "Epoch 75/100\n",
      "238/238 [==============================] - 0s 2ms/step - loss: 0.4042 - accuracy: 0.8453 - val_loss: 0.4328 - val_accuracy: 0.8226\n",
      "Epoch 76/100\n",
      "238/238 [==============================] - 0s 2ms/step - loss: 0.4121 - accuracy: 0.8439 - val_loss: 0.4285 - val_accuracy: 0.8211\n",
      "Epoch 77/100\n",
      "238/238 [==============================] - 0s 2ms/step - loss: 0.4069 - accuracy: 0.8411 - val_loss: 0.4270 - val_accuracy: 0.8268\n",
      "Epoch 78/100\n",
      "238/238 [==============================] - 0s 2ms/step - loss: 0.4088 - accuracy: 0.8437 - val_loss: 0.4293 - val_accuracy: 0.8163\n",
      "Epoch 79/100\n",
      "238/238 [==============================] - 1s 2ms/step - loss: 0.4050 - accuracy: 0.8474 - val_loss: 0.4267 - val_accuracy: 0.8268\n",
      "Epoch 80/100\n",
      "238/238 [==============================] - 0s 2ms/step - loss: 0.4056 - accuracy: 0.8473 - val_loss: 0.4290 - val_accuracy: 0.8189\n",
      "Epoch 81/100\n",
      "238/238 [==============================] - 0s 2ms/step - loss: 0.4008 - accuracy: 0.8489 - val_loss: 0.4302 - val_accuracy: 0.8184\n",
      "Epoch 82/100\n",
      "238/238 [==============================] - 0s 2ms/step - loss: 0.4007 - accuracy: 0.8477 - val_loss: 0.4263 - val_accuracy: 0.8247\n",
      "Epoch 83/100\n",
      "238/238 [==============================] - 0s 2ms/step - loss: 0.3991 - accuracy: 0.8516 - val_loss: 0.4329 - val_accuracy: 0.8247\n",
      "Epoch 84/100\n",
      "238/238 [==============================] - 0s 2ms/step - loss: 0.3973 - accuracy: 0.8490 - val_loss: 0.4256 - val_accuracy: 0.8216\n",
      "Epoch 85/100\n",
      "238/238 [==============================] - 0s 2ms/step - loss: 0.4008 - accuracy: 0.8535 - val_loss: 0.4270 - val_accuracy: 0.8168\n",
      "Epoch 86/100\n",
      "238/238 [==============================] - 0s 2ms/step - loss: 0.4002 - accuracy: 0.8502 - val_loss: 0.4260 - val_accuracy: 0.8179\n",
      "Epoch 87/100\n",
      "238/238 [==============================] - 0s 2ms/step - loss: 0.3961 - accuracy: 0.8531 - val_loss: 0.4277 - val_accuracy: 0.8274\n",
      "Epoch 88/100\n",
      "238/238 [==============================] - 0s 2ms/step - loss: 0.3988 - accuracy: 0.8507 - val_loss: 0.4206 - val_accuracy: 0.8289\n",
      "Epoch 89/100\n",
      "238/238 [==============================] - 1s 2ms/step - loss: 0.3980 - accuracy: 0.8474 - val_loss: 0.4209 - val_accuracy: 0.8237\n",
      "Epoch 90/100\n",
      "238/238 [==============================] - 0s 2ms/step - loss: 0.3937 - accuracy: 0.8552 - val_loss: 0.4286 - val_accuracy: 0.8221\n",
      "Epoch 91/100\n",
      "238/238 [==============================] - 0s 2ms/step - loss: 0.3920 - accuracy: 0.8499 - val_loss: 0.4357 - val_accuracy: 0.8137\n",
      "Epoch 92/100\n",
      "238/238 [==============================] - 1s 2ms/step - loss: 0.3966 - accuracy: 0.8545 - val_loss: 0.4301 - val_accuracy: 0.8226\n",
      "Epoch 93/100\n",
      "238/238 [==============================] - 0s 2ms/step - loss: 0.3951 - accuracy: 0.8545 - val_loss: 0.4247 - val_accuracy: 0.8221\n",
      "Epoch 94/100\n",
      "238/238 [==============================] - 0s 2ms/step - loss: 0.3953 - accuracy: 0.8555 - val_loss: 0.4224 - val_accuracy: 0.8205\n",
      "Epoch 95/100\n",
      "238/238 [==============================] - 0s 2ms/step - loss: 0.3898 - accuracy: 0.8532 - val_loss: 0.4343 - val_accuracy: 0.8163\n",
      "Epoch 96/100\n",
      "238/238 [==============================] - 1s 2ms/step - loss: 0.3977 - accuracy: 0.8515 - val_loss: 0.4214 - val_accuracy: 0.8226\n",
      "Epoch 97/100\n",
      "238/238 [==============================] - 1s 3ms/step - loss: 0.3878 - accuracy: 0.8553 - val_loss: 0.4223 - val_accuracy: 0.8211\n",
      "Epoch 98/100\n",
      "238/238 [==============================] - 0s 2ms/step - loss: 0.3918 - accuracy: 0.8531 - val_loss: 0.4198 - val_accuracy: 0.8200\n",
      "Epoch 99/100\n",
      "238/238 [==============================] - 1s 3ms/step - loss: 0.3881 - accuracy: 0.8549 - val_loss: 0.4327 - val_accuracy: 0.8253\n",
      "Epoch 100/100\n",
      "238/238 [==============================] - 1s 4ms/step - loss: 0.3890 - accuracy: 0.8557 - val_loss: 0.4267 - val_accuracy: 0.8221\n"
     ]
    },
    {
     "data": {
      "text/plain": [
       "<tensorflow.python.keras.callbacks.History at 0x1e7910b1e48>"
      ]
     },
     "execution_count": 122,
     "metadata": {},
     "output_type": "execute_result"
    }
   ],
   "source": [
    "model.fit(X_train, y_train, epochs=100, batch_size=32, validation_data=(X_test, y_test), callbacks=[es])"
   ]
  },
  {
   "cell_type": "code",
   "execution_count": 123,
   "id": "collective-machinery",
   "metadata": {},
   "outputs": [
    {
     "data": {
      "image/png": "[encoded data removed]",
      "text/plain": [
       "<Figure size 432x288 with 1 Axes>"
      ]
     },
     "metadata": {
      "needs_background": "light"
     },
     "output_type": "display_data"
    }
   ],
   "source": [
    "plt.plot(model.history.history['loss'], label='train')\n",
    "plt.plot(model.history.history['val_loss'], label='test')\n",
    "plt.legend()\n",
    "plt.show()"
   ]
  },
  {
   "cell_type": "markdown",
   "id": "genetic-mirror",
   "metadata": {},
   "source": [
    "# Metrics"
   ]
  },
  {
   "cell_type": "code",
   "execution_count": 124,
   "id": "signal-processing",
   "metadata": {},
   "outputs": [
    {
     "name": "stdout",
     "output_type": "stream",
     "text": [
      "              precision    recall  f1-score   support\n",
      "\n",
      "           0       0.85      0.79      0.82       962\n",
      "           1       0.80      0.86      0.83       938\n",
      "\n",
      "    accuracy                           0.82      1900\n",
      "   macro avg       0.82      0.82      0.82      1900\n",
      "weighted avg       0.82      0.82      0.82      1900\n",
      "\n",
      "[[757 205]\n",
      " [133 805]]\n",
      "0.8221052631578948\n"
     ]
    }
   ],
   "source": [
    "from sklearn.metrics import classification_report, confusion_matrix, accuracy_score\n",
    "\n",
    "y_pred = model.predict(X_test)\n",
    "\n",
    "y_pred = y_pred > 0.5\n",
    "\n",
    "y_pred = [1 if value == True else 0 for value in y_pred]\n",
    "print(classification_report(y_test, y_pred))\n",
    "print(confusion_matrix(y_test, y_pred))\n",
    "print(accuracy_score(y_test, y_pred))"
   ]
  }
 ],
 "metadata": {
  "hide_input": false,
  "kernelspec": {
   "display_name": "Python 3",
   "language": "python",
   "name": "python3"
  },
  "language_info": {
   "codemirror_mode": {
    "name": "ipython",
    "version": 3
   },
   "file_extension": ".py",
   "mimetype": "text/x-python",
   "name": "python",
   "nbconvert_exporter": "python",
   "pygments_lexer": "ipython3",
   "version": "3.7.4"
  }
 },
 "nbformat": 4,
 "nbformat_minor": 5
}
