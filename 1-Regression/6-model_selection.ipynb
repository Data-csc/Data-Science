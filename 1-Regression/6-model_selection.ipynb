{
 "cells": [
  {
   "cell_type": "markdown",
   "id": "optical-danish",
   "metadata": {},
   "source": [
    "# Import Libraries"
   ]
  },
  {
   "cell_type": "code",
   "execution_count": 1,
   "id": "beginning-engagement",
   "metadata": {},
   "outputs": [],
   "source": [
    "import numpy as np\n",
    "import pandas as pd\n",
    "import matplotlib.pyplot as plt"
   ]
  },
  {
   "cell_type": "code",
   "execution_count": 2,
   "id": "little-joseph",
   "metadata": {},
   "outputs": [],
   "source": [
    "%matplotlib inline"
   ]
  },
  {
   "cell_type": "markdown",
   "id": "difficult-parade",
   "metadata": {},
   "source": [
    "# Read Dataset"
   ]
  },
  {
   "cell_type": "code",
   "execution_count": 3,
   "id": "announced-constraint",
   "metadata": {},
   "outputs": [],
   "source": [
    "dataset = pd.read_csv('model_selection.csv')"
   ]
  },
  {
   "cell_type": "code",
   "execution_count": 4,
   "id": "hourly-submission",
   "metadata": {},
   "outputs": [
    {
     "data": {
      "text/html": [
       "<div>\n",
       "<style scoped>\n",
       "    .dataframe tbody tr th:only-of-type {\n",
       "        vertical-align: middle;\n",
       "    }\n",
       "\n",
       "    .dataframe tbody tr th {\n",
       "        vertical-align: top;\n",
       "    }\n",
       "\n",
       "    .dataframe thead th {\n",
       "        text-align: right;\n",
       "    }\n",
       "</style>\n",
       "<table border=\"1\" class=\"dataframe\">\n",
       "  <thead>\n",
       "    <tr style=\"text-align: right;\">\n",
       "      <th></th>\n",
       "      <th>AT</th>\n",
       "      <th>V</th>\n",
       "      <th>AP</th>\n",
       "      <th>RH</th>\n",
       "      <th>PE</th>\n",
       "    </tr>\n",
       "  </thead>\n",
       "  <tbody>\n",
       "    <tr>\n",
       "      <th>0</th>\n",
       "      <td>14.96</td>\n",
       "      <td>41.76</td>\n",
       "      <td>1024.07</td>\n",
       "      <td>73.17</td>\n",
       "      <td>463.26</td>\n",
       "    </tr>\n",
       "    <tr>\n",
       "      <th>1</th>\n",
       "      <td>25.18</td>\n",
       "      <td>62.96</td>\n",
       "      <td>1020.04</td>\n",
       "      <td>59.08</td>\n",
       "      <td>444.37</td>\n",
       "    </tr>\n",
       "    <tr>\n",
       "      <th>2</th>\n",
       "      <td>5.11</td>\n",
       "      <td>39.40</td>\n",
       "      <td>1012.16</td>\n",
       "      <td>92.14</td>\n",
       "      <td>488.56</td>\n",
       "    </tr>\n",
       "    <tr>\n",
       "      <th>3</th>\n",
       "      <td>20.86</td>\n",
       "      <td>57.32</td>\n",
       "      <td>1010.24</td>\n",
       "      <td>76.64</td>\n",
       "      <td>446.48</td>\n",
       "    </tr>\n",
       "    <tr>\n",
       "      <th>4</th>\n",
       "      <td>10.82</td>\n",
       "      <td>37.50</td>\n",
       "      <td>1009.23</td>\n",
       "      <td>96.62</td>\n",
       "      <td>473.90</td>\n",
       "    </tr>\n",
       "    <tr>\n",
       "      <th>...</th>\n",
       "      <td>...</td>\n",
       "      <td>...</td>\n",
       "      <td>...</td>\n",
       "      <td>...</td>\n",
       "      <td>...</td>\n",
       "    </tr>\n",
       "    <tr>\n",
       "      <th>9563</th>\n",
       "      <td>16.65</td>\n",
       "      <td>49.69</td>\n",
       "      <td>1014.01</td>\n",
       "      <td>91.00</td>\n",
       "      <td>460.03</td>\n",
       "    </tr>\n",
       "    <tr>\n",
       "      <th>9564</th>\n",
       "      <td>13.19</td>\n",
       "      <td>39.18</td>\n",
       "      <td>1023.67</td>\n",
       "      <td>66.78</td>\n",
       "      <td>469.62</td>\n",
       "    </tr>\n",
       "    <tr>\n",
       "      <th>9565</th>\n",
       "      <td>31.32</td>\n",
       "      <td>74.33</td>\n",
       "      <td>1012.92</td>\n",
       "      <td>36.48</td>\n",
       "      <td>429.57</td>\n",
       "    </tr>\n",
       "    <tr>\n",
       "      <th>9566</th>\n",
       "      <td>24.48</td>\n",
       "      <td>69.45</td>\n",
       "      <td>1013.86</td>\n",
       "      <td>62.39</td>\n",
       "      <td>435.74</td>\n",
       "    </tr>\n",
       "    <tr>\n",
       "      <th>9567</th>\n",
       "      <td>21.60</td>\n",
       "      <td>62.52</td>\n",
       "      <td>1017.23</td>\n",
       "      <td>67.87</td>\n",
       "      <td>453.28</td>\n",
       "    </tr>\n",
       "  </tbody>\n",
       "</table>\n",
       "<p>9568 rows × 5 columns</p>\n",
       "</div>"
      ],
      "text/plain": [
       "         AT      V       AP     RH      PE\n",
       "0     14.96  41.76  1024.07  73.17  463.26\n",
       "1     25.18  62.96  1020.04  59.08  444.37\n",
       "2      5.11  39.40  1012.16  92.14  488.56\n",
       "3     20.86  57.32  1010.24  76.64  446.48\n",
       "4     10.82  37.50  1009.23  96.62  473.90\n",
       "...     ...    ...      ...    ...     ...\n",
       "9563  16.65  49.69  1014.01  91.00  460.03\n",
       "9564  13.19  39.18  1023.67  66.78  469.62\n",
       "9565  31.32  74.33  1012.92  36.48  429.57\n",
       "9566  24.48  69.45  1013.86  62.39  435.74\n",
       "9567  21.60  62.52  1017.23  67.87  453.28\n",
       "\n",
       "[9568 rows x 5 columns]"
      ]
     },
     "execution_count": 4,
     "metadata": {},
     "output_type": "execute_result"
    }
   ],
   "source": [
    "dataset"
   ]
  },
  {
   "cell_type": "code",
   "execution_count": 5,
   "id": "neutral-student",
   "metadata": {},
   "outputs": [],
   "source": [
    "X = dataset.iloc[:, :-1].values\n",
    "y = dataset.iloc[:, -1].values"
   ]
  },
  {
   "cell_type": "markdown",
   "id": "advisory-syndication",
   "metadata": {},
   "source": [
    "# Train Test Split"
   ]
  },
  {
   "cell_type": "code",
   "execution_count": 6,
   "id": "spanish-blackberry",
   "metadata": {},
   "outputs": [],
   "source": [
    "from sklearn.model_selection import train_test_split\n",
    "\n",
    "def dataset_split(X, y):\n",
    "    return train_test_split(X, y, test_size=0.2, random_state=0)"
   ]
  },
  {
   "cell_type": "markdown",
   "id": "relevant-obligation",
   "metadata": {},
   "source": [
    "# Feature Scaling"
   ]
  },
  {
   "cell_type": "code",
   "execution_count": 7,
   "id": "robust-training",
   "metadata": {},
   "outputs": [],
   "source": [
    "from sklearn.preprocessing import StandardScaler\n",
    "\n",
    "def independent_var_scaler(X_train, X_test):\n",
    "    scaler = StandardScaler()\n",
    "    X_train = scaler.fit_transform(X_train)\n",
    "    X_test = scaler.transform(X_test)\n",
    "    return scaler, X_train, X_test\n",
    "\n",
    "def dependent_var_scaler(y_train, y_test):\n",
    "    scaler = StandardScaler()\n",
    "    y_train = scaler.fit_transform(y_train.reshape(len(y_train), 1))\n",
    "    y_test = scaler.transform(y_test.reshape(len(y_test), 1))\n",
    "    return scaler, y_train.reshape(1, len(y_train))[0], y_test.reshape(1, len(y_test))[0]"
   ]
  },
  {
   "cell_type": "markdown",
   "id": "sweet-qualification",
   "metadata": {},
   "source": [
    "# Model Training"
   ]
  },
  {
   "cell_type": "code",
   "execution_count": 8,
   "id": "affected-christianity",
   "metadata": {},
   "outputs": [],
   "source": [
    "from sklearn.linear_model import LinearRegression\n",
    "from sklearn.preprocessing import PolynomialFeatures\n",
    "from sklearn.svm import SVR\n",
    "from sklearn.tree import DecisionTreeRegressor\n",
    "from sklearn.ensemble import RandomForestRegressor\n",
    "\n",
    "def linear_regression(X, y):\n",
    "    lr = LinearRegression()\n",
    "    lr.fit(X, y)\n",
    "    return lr\n",
    "\n",
    "def polynomial_linear_regression(X, y, degree):\n",
    "    lr = LinearRegression()\n",
    "    pf = PolynomialFeatures(degree=degree)\n",
    "    X_poly = pf.fit_transform(X)\n",
    "    lr.fit(X_poly, y)\n",
    "    return lr, X_poly, pf\n",
    "\n",
    "def sv_regressor(X, y, kernel):\n",
    "    svr = SVR(kernel=kernel)\n",
    "    svr.fit(X, y)\n",
    "    return svr\n",
    "\n",
    "def decision_tree(X, y):\n",
    "    tree = DecisionTreeRegressor(random_state=0)\n",
    "    tree.fit(X, y)\n",
    "    return tree\n",
    "\n",
    "def random_forest(X, y, n_estimators):\n",
    "    forest = RandomForestRegressor(n_estimators=n_estimators)\n",
    "    forest.fit(X, y)\n",
    "    return forest"
   ]
  },
  {
   "cell_type": "markdown",
   "id": "filled-madison",
   "metadata": {},
   "source": [
    "# Testing Metrics R2"
   ]
  },
  {
   "cell_type": "code",
   "execution_count": 9,
   "id": "statewide-senator",
   "metadata": {},
   "outputs": [],
   "source": [
    "from sklearn.metrics import r2_score\n",
    "\n",
    "def testing(models):\n",
    "    r_score = dict()\n",
    "    for name, model in models.items():\n",
    "#         print(model['Model'])\n",
    "        y_pred = model['Model'].predict(model['X'])\n",
    "        r_score[name] = r2_score(model['y'], y_pred)\n",
    "    \n",
    "    return r_score"
   ]
  },
  {
   "cell_type": "markdown",
   "id": "signal-channels",
   "metadata": {},
   "source": [
    "# Single Prediction"
   ]
  },
  {
   "cell_type": "code",
   "execution_count": 10,
   "id": "ordinary-auction",
   "metadata": {},
   "outputs": [],
   "source": [
    "def predict_no(model, X, scaler_X=None, scaler_y=None, pf=None):\n",
    "    if scaler_X and scaler_y:\n",
    "        y_pred = model.predict(scaler_X.transform([X]))\n",
    "        y_pred = scaler_y.inverse_transform(y_pred.reshape(len(y_pred), 1))\n",
    "        return y_pred.reshape(1, len(y_pred))\n",
    "    elif pf:\n",
    "        return model.predict(pf.transform([X]))\n",
    "    else:\n",
    "        return model.predict([X])"
   ]
  },
  {
   "cell_type": "markdown",
   "id": "enhanced-conflict",
   "metadata": {},
   "source": [
    "# Implementation"
   ]
  },
  {
   "cell_type": "code",
   "execution_count": 11,
   "id": "impossible-slope",
   "metadata": {},
   "outputs": [],
   "source": [
    "X_train, X_test, y_train, y_test = dataset_split(X, y)"
   ]
  },
  {
   "cell_type": "code",
   "execution_count": 12,
   "id": "funky-denial",
   "metadata": {},
   "outputs": [],
   "source": [
    "# linear regressor\n",
    "# no featrue scaling required\n",
    "lr = linear_regression(X_train, y_train)\n",
    "\n",
    "# polynomial regressor\n",
    "# no featrue scaling required\n",
    "pr, X_train_poly, pf = polynomial_linear_regression(X_train, y_train, 4)\n",
    "\n",
    "# SVR\n",
    "# feature scaling\n",
    "scaler_X_svr, X_train_svr, X_test_svr = independent_var_scaler(X_train, X_test)\n",
    "scaler_y_svr, y_train_svr, y_test_svr = dependent_var_scaler(y_train, y_test)\n",
    "svr = sv_regressor(X_train_svr, y_train_svr, 'rbf')\n",
    "\n",
    "# Decision Tree\n",
    "# No feature scaling required\n",
    "tree = decision_tree(X_train, y_train)\n",
    "\n",
    "# Forest\n",
    "# No feature scaling required\n",
    "forest = random_forest(X_train, y_train, n_estimators=100)"
   ]
  },
  {
   "cell_type": "markdown",
   "id": "conceptual-married",
   "metadata": {},
   "source": [
    "# Comparison"
   ]
  },
  {
   "cell_type": "code",
   "execution_count": 13,
   "id": "progressive-integrity",
   "metadata": {},
   "outputs": [],
   "source": [
    "r_score = testing({'Linear Regression': {'Model': lr, 'X': X_test, 'y': y_test},\n",
    "                  'Polynomial Regression': {'Model': pr, 'X': pf.transform(X_test), 'y': y_test},\n",
    "                   'SVR': {'Model': svr, 'X': X_test_svr, 'y': y_test_svr},\n",
    "                   'Tree': {'Model': tree, 'X': X_test, 'y': y_test},\n",
    "                   'Forest': {'Model': forest, 'X': X_test, 'y': y_test}\n",
    "                  })"
   ]
  },
  {
   "cell_type": "code",
   "execution_count": 14,
   "id": "eligible-workplace",
   "metadata": {},
   "outputs": [
    {
     "data": {
      "text/plain": [
       "{'Linear Regression': 0.9325315554761303,\n",
       " 'Polynomial Regression': 0.9458193347147237,\n",
       " 'SVR': 0.9480784049986258,\n",
       " 'Tree': 0.922905874177941,\n",
       " 'Forest': 0.9648774827438888}"
      ]
     },
     "execution_count": 14,
     "metadata": {},
     "output_type": "execute_result"
    }
   ],
   "source": [
    "r_score"
   ]
  },
  {
   "cell_type": "code",
   "execution_count": 15,
   "id": "mental-sussex",
   "metadata": {},
   "outputs": [
    {
     "data": {
      "text/plain": [
       "array([446.67292286])"
      ]
     },
     "execution_count": 15,
     "metadata": {},
     "output_type": "execute_result"
    }
   ],
   "source": [
    "predict_no(lr, [24.12, 58.66, 1011.55, 58.96])"
   ]
  }
 ],
 "metadata": {
  "kernelspec": {
   "display_name": "Python 3",
   "language": "python",
   "name": "python3"
  },
  "language_info": {
   "codemirror_mode": {
    "name": "ipython",
    "version": 3
   },
   "file_extension": ".py",
   "mimetype": "text/x-python",
   "name": "python",
   "nbconvert_exporter": "python",
   "pygments_lexer": "ipython3",
   "version": "3.7.4"
  }
 },
 "nbformat": 4,
 "nbformat_minor": 5
}
